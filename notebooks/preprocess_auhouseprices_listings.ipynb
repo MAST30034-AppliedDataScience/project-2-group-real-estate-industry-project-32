{
 "cells": [
  {
   "cell_type": "code",
   "execution_count": 1,
   "metadata": {},
   "outputs": [],
   "source": [
    "import polars as pl\n",
    "import os\n",
    "from IPython.core.interactiveshell import InteractiveShell\n",
    "from IPython.display import display_html\n",
    "InteractiveShell.ast_node_interactivity = \"all\"\n",
    "\n",
    "auhouseprices_dir = '../data/raw/auhouseprices/'"
   ]
  },
  {
   "cell_type": "code",
   "execution_count": 2,
   "metadata": {},
   "outputs": [],
   "source": [
    "# Read each .csv file in the directory into a single polars DataFrame\n",
    "df = pl.DataFrame({})\n",
    "for file in os.listdir(auhouseprices_dir):\n",
    "    if file.endswith('.csv'):\n",
    "        df = df.vstack(pl.read_csv(auhouseprices_dir + file))\n"
   ]
  },
  {
   "cell_type": "code",
   "execution_count": 10,
   "metadata": {},
   "outputs": [],
   "source": [
    "# Count number of null or missing values in each column\n",
    "df.null_count()"
   ]
  }
 ],
 "metadata": {
  "kernelspec": {
   "display_name": "Python 3",
   "language": "python",
   "name": "python3"
  },
  "language_info": {
   "codemirror_mode": {
    "name": "ipython",
    "version": 3
   },
   "file_extension": ".py",
   "mimetype": "text/x-python",
   "name": "python",
   "nbconvert_exporter": "python",
   "pygments_lexer": "ipython3",
   "version": "3.11.9"
  }
 },
 "nbformat": 4,
 "nbformat_minor": 2
}
