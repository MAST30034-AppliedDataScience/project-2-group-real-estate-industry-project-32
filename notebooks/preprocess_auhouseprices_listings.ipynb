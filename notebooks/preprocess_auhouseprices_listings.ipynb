{
 "cells": [
  {
   "cell_type": "code",
   "execution_count": 20,
   "metadata": {},
   "outputs": [],
   "source": [
    "import os\n",
    "import json\n",
    "import pandas as pd\n",
    "from typing import Dict, Any\n",
    "from urllib.request import urlretrieve\n",
    "import seaborn as sns\n",
    "import matplotlib.pyplot as plt\n",
    "import math\n",
    "import numpy as np\n",
    "import pandas as pd\n",
    "import geopandas as gpd\n",
    "import folium\n",
    "from shapely.geometry import Point\n",
    "from shapely import wkt\n",
    "import openrouteservice\n",
    "import polars as pl\n",
    "import os\n",
    "from IPython.core.interactiveshell import InteractiveShell\n",
    "\n",
    "from IPython.display import display_html\n",
    "InteractiveShell.ast_node_interactivity = \"all\"\n",
    "\n",
    "auhouseprices_dir = '../data/raw/auhouseprices/'"
   ]
  },
  {
   "cell_type": "code",
   "execution_count": 21,
   "metadata": {},
   "outputs": [],
   "source": [
    "# Read each .csv file in the directory into a single polars DataFrame\n",
    "df = pl.DataFrame({})\n",
    "for file in os.listdir(auhouseprices_dir):\n",
    "    if file.endswith('.csv'):\n",
    "        df = df.vstack(pl.read_csv(auhouseprices_dir + file))\n"
   ]
  },
  {
   "cell_type": "code",
   "execution_count": 22,
   "metadata": {},
   "outputs": [],
   "source": [
    "pd = df.to_pandas()\n",
    "pd = pd.rename(columns={'sold_date': 'Listing date'})"
   ]
  },
  {
   "cell_type": "code",
   "execution_count": 23,
   "metadata": {},
   "outputs": [
    {
     "data": {
      "text/plain": [
       "array(['Townhouse', 'house', 'House', 'apartment', 'unit', 'Unit',\n",
       "       'Apartment', 'townhouse', 'studio', 'villa', 'Acreage',\n",
       "       'warehouse', 'flat', 'Villa', 'terrace', 'other',\n",
       "       'acreage-semi-rural', 'alpine', 'duplex-semi-detached', 'Studio',\n",
       "       'acreage/semi-rural', 'serviced apartment', 'duplex/semi-detached',\n",
       "       'Duplex', 'Other', 'Terrace', 'Flat', 'Alpine',\n",
       "       'retirement living', 'Warehouse', 'Land'], dtype=object)"
      ]
     },
     "execution_count": 23,
     "metadata": {},
     "output_type": "execute_result"
    }
   ],
   "source": [
    "pd['property_type'].unique()"
   ]
  },
  {
   "cell_type": "code",
   "execution_count": 24,
   "metadata": {},
   "outputs": [
    {
     "data": {
      "text/plain": [
       "unique_id               0\n",
       "street_name         14186\n",
       "state                2176\n",
       "postcode             2176\n",
       "suburb               2176\n",
       "property_type           0\n",
       "address                 0\n",
       "rent                  902\n",
       "num_bedrooms         6428\n",
       "num_bathrooms          51\n",
       "parking            138741\n",
       "distance_to_cbd         0\n",
       "Listing date            0\n",
       "latitude               32\n",
       "longitude              32\n",
       "dtype: int64"
      ]
     },
     "execution_count": 24,
     "metadata": {},
     "output_type": "execute_result"
    }
   ],
   "source": [
    "pd.isnull().sum()\n"
   ]
  },
  {
   "cell_type": "code",
   "execution_count": 25,
   "metadata": {},
   "outputs": [],
   "source": [
    "# delete rows with negetive rent, or negetive numeric values\n",
    "pd['rent'] = pd['rent'].fillna(0)\n",
    "pd = pd[pd['rent'] > 0.0]\n",
    "pd = pd[pd['num_bedrooms'] > 0.0]\n",
    "pd = pd[pd['num_bathrooms'] > 0.0]\n",
    "pd = pd[pd['parking'] >= 0.0]\n",
    "pd = pd[pd['property_type'] != '']\n",
    "pd['suburb'] = pd['suburb'].str.lower()\n",
    "pd['property_type'] = pd['property_type'].str.lower()\n",
    "pd = pd.drop(\"street_name\", axis=1)\n",
    "pd = pd[pd['longitude'] != 0.0]\n",
    "pd = pd[pd['latitude'] != 0.0]\n",
    "\n",
    "# num_bedrooms\tnum_bathrooms\n",
    "# we made an assumption that the an average property would have a bathroom and a bedroom at least\n"
   ]
  },
  {
   "cell_type": "code",
   "execution_count": 26,
   "metadata": {},
   "outputs": [],
   "source": [
    "\n",
    "pd = pd[pd['property_type'].isin(['house', 'apartment', 'townhouse', 'unit', 'villa','duplex-semi-detached','duplex','studio','flat','retirement living','serviced apartment'])]"
   ]
  },
  {
   "cell_type": "code",
   "execution_count": 27,
   "metadata": {},
   "outputs": [
    {
     "data": {
      "text/plain": [
       "unique_id             0\n",
       "state              1904\n",
       "postcode           1904\n",
       "suburb             1904\n",
       "property_type         0\n",
       "address               0\n",
       "rent                  0\n",
       "num_bedrooms          0\n",
       "num_bathrooms         0\n",
       "parking               0\n",
       "distance_to_cbd       0\n",
       "Listing date          0\n",
       "latitude             30\n",
       "longitude            30\n",
       "dtype: int64"
      ]
     },
     "execution_count": 27,
     "metadata": {},
     "output_type": "execute_result"
    },
    {
     "data": {
      "text/plain": [
       "747895"
      ]
     },
     "execution_count": 27,
     "metadata": {},
     "output_type": "execute_result"
    }
   ],
   "source": [
    "pd.isnull().sum()\n",
    "len(pd)"
   ]
  },
  {
   "cell_type": "code",
   "execution_count": 28,
   "metadata": {},
   "outputs": [],
   "source": [
    "# rename sold_date to date\n",
    "\n",
    "pd = pd.dropna(subset=['suburb', 'rent', 'num_bedrooms', 'num_bathrooms', 'parking', 'property_type', 'Listing date','longitude', 'latitude','state'])\n",
    "pd = pd.drop(\"state\", axis=1)\n"
   ]
  },
  {
   "cell_type": "code",
   "execution_count": 29,
   "metadata": {},
   "outputs": [
    {
     "data": {
      "text/plain": [
       "unique_id          0\n",
       "postcode           0\n",
       "suburb             0\n",
       "property_type      0\n",
       "address            0\n",
       "rent               0\n",
       "num_bedrooms       0\n",
       "num_bathrooms      0\n",
       "parking            0\n",
       "distance_to_cbd    0\n",
       "Listing date       0\n",
       "latitude           0\n",
       "longitude          0\n",
       "dtype: int64"
      ]
     },
     "execution_count": 29,
     "metadata": {},
     "output_type": "execute_result"
    },
    {
     "data": {
      "text/plain": [
       "745961"
      ]
     },
     "execution_count": 29,
     "metadata": {},
     "output_type": "execute_result"
    }
   ],
   "source": [
    "pd.isna().sum()\n",
    "len(pd)\n",
    "# pd[pd['street_name'].isna()]"
   ]
  },
  {
   "cell_type": "code",
   "execution_count": 30,
   "metadata": {},
   "outputs": [
    {
     "data": {
      "text/html": [
       "<div>\n",
       "<style scoped>\n",
       "    .dataframe tbody tr th:only-of-type {\n",
       "        vertical-align: middle;\n",
       "    }\n",
       "\n",
       "    .dataframe tbody tr th {\n",
       "        vertical-align: top;\n",
       "    }\n",
       "\n",
       "    .dataframe thead th {\n",
       "        text-align: right;\n",
       "    }\n",
       "</style>\n",
       "<table border=\"1\" class=\"dataframe\">\n",
       "  <thead>\n",
       "    <tr style=\"text-align: right;\">\n",
       "      <th></th>\n",
       "      <th>unique_id</th>\n",
       "      <th>postcode</th>\n",
       "      <th>rent</th>\n",
       "      <th>num_bedrooms</th>\n",
       "      <th>num_bathrooms</th>\n",
       "      <th>parking</th>\n",
       "      <th>distance_to_cbd</th>\n",
       "      <th>latitude</th>\n",
       "      <th>longitude</th>\n",
       "    </tr>\n",
       "  </thead>\n",
       "  <tbody>\n",
       "    <tr>\n",
       "      <th>count</th>\n",
       "      <td>7.459610e+05</td>\n",
       "      <td>745961.000000</td>\n",
       "      <td>7.459610e+05</td>\n",
       "      <td>745961.000000</td>\n",
       "      <td>745961.000000</td>\n",
       "      <td>745961.000000</td>\n",
       "      <td>745961.000000</td>\n",
       "      <td>745961.000000</td>\n",
       "      <td>745961.000000</td>\n",
       "    </tr>\n",
       "    <tr>\n",
       "      <th>mean</th>\n",
       "      <td>1.680922e+08</td>\n",
       "      <td>3246.788250</td>\n",
       "      <td>4.469423e+02</td>\n",
       "      <td>2.608160</td>\n",
       "      <td>1.436697</td>\n",
       "      <td>1.539282</td>\n",
       "      <td>42.754623</td>\n",
       "      <td>-37.759472</td>\n",
       "      <td>144.937624</td>\n",
       "    </tr>\n",
       "    <tr>\n",
       "      <th>std</th>\n",
       "      <td>1.398927e+08</td>\n",
       "      <td>272.324442</td>\n",
       "      <td>1.220126e+04</td>\n",
       "      <td>1.205669</td>\n",
       "      <td>0.571227</td>\n",
       "      <td>1.245635</td>\n",
       "      <td>173.197223</td>\n",
       "      <td>0.983846</td>\n",
       "      <td>2.415125</td>\n",
       "    </tr>\n",
       "    <tr>\n",
       "      <th>min</th>\n",
       "      <td>3.035450e+05</td>\n",
       "      <td>3000.000000</td>\n",
       "      <td>1.000000e+00</td>\n",
       "      <td>1.000000</td>\n",
       "      <td>1.000000</td>\n",
       "      <td>1.000000</td>\n",
       "      <td>0.030000</td>\n",
       "      <td>-41.294499</td>\n",
       "      <td>-123.369898</td>\n",
       "    </tr>\n",
       "    <tr>\n",
       "      <th>25%</th>\n",
       "      <td>3.480463e+07</td>\n",
       "      <td>3064.000000</td>\n",
       "      <td>3.200000e+02</td>\n",
       "      <td>2.000000</td>\n",
       "      <td>1.000000</td>\n",
       "      <td>1.000000</td>\n",
       "      <td>8.160000</td>\n",
       "      <td>-37.919545</td>\n",
       "      <td>144.892900</td>\n",
       "    </tr>\n",
       "    <tr>\n",
       "      <th>50%</th>\n",
       "      <td>3.990857e+07</td>\n",
       "      <td>3151.000000</td>\n",
       "      <td>3.750000e+02</td>\n",
       "      <td>3.000000</td>\n",
       "      <td>1.000000</td>\n",
       "      <td>1.000000</td>\n",
       "      <td>18.060000</td>\n",
       "      <td>-37.830570</td>\n",
       "      <td>145.002686</td>\n",
       "    </tr>\n",
       "    <tr>\n",
       "      <th>75%</th>\n",
       "      <td>3.114834e+08</td>\n",
       "      <td>3226.000000</td>\n",
       "      <td>4.600000e+02</td>\n",
       "      <td>3.000000</td>\n",
       "      <td>2.000000</td>\n",
       "      <td>2.000000</td>\n",
       "      <td>40.290000</td>\n",
       "      <td>-37.751790</td>\n",
       "      <td>145.127956</td>\n",
       "    </tr>\n",
       "    <tr>\n",
       "      <th>max</th>\n",
       "      <td>3.320003e+08</td>\n",
       "      <td>3996.000000</td>\n",
       "      <td>8.903856e+06</td>\n",
       "      <td>650.000000</td>\n",
       "      <td>52.000000</td>\n",
       "      <td>410.000000</td>\n",
       "      <td>17034.200000</td>\n",
       "      <td>200.000000</td>\n",
       "      <td>200.000000</td>\n",
       "    </tr>\n",
       "  </tbody>\n",
       "</table>\n",
       "</div>"
      ],
      "text/plain": [
       "          unique_id       postcode          rent   num_bedrooms  \\\n",
       "count  7.459610e+05  745961.000000  7.459610e+05  745961.000000   \n",
       "mean   1.680922e+08    3246.788250  4.469423e+02       2.608160   \n",
       "std    1.398927e+08     272.324442  1.220126e+04       1.205669   \n",
       "min    3.035450e+05    3000.000000  1.000000e+00       1.000000   \n",
       "25%    3.480463e+07    3064.000000  3.200000e+02       2.000000   \n",
       "50%    3.990857e+07    3151.000000  3.750000e+02       3.000000   \n",
       "75%    3.114834e+08    3226.000000  4.600000e+02       3.000000   \n",
       "max    3.320003e+08    3996.000000  8.903856e+06     650.000000   \n",
       "\n",
       "       num_bathrooms        parking  distance_to_cbd       latitude  \\\n",
       "count  745961.000000  745961.000000    745961.000000  745961.000000   \n",
       "mean        1.436697       1.539282        42.754623     -37.759472   \n",
       "std         0.571227       1.245635       173.197223       0.983846   \n",
       "min         1.000000       1.000000         0.030000     -41.294499   \n",
       "25%         1.000000       1.000000         8.160000     -37.919545   \n",
       "50%         1.000000       1.000000        18.060000     -37.830570   \n",
       "75%         2.000000       2.000000        40.290000     -37.751790   \n",
       "max        52.000000     410.000000     17034.200000     200.000000   \n",
       "\n",
       "           longitude  \n",
       "count  745961.000000  \n",
       "mean      144.937624  \n",
       "std         2.415125  \n",
       "min      -123.369898  \n",
       "25%       144.892900  \n",
       "50%       145.002686  \n",
       "75%       145.127956  \n",
       "max       200.000000  "
      ]
     },
     "execution_count": 30,
     "metadata": {},
     "output_type": "execute_result"
    }
   ],
   "source": [
    "# how to summary for the numetrical values\n",
    "pd.describe()"
   ]
  },
  {
   "cell_type": "code",
   "execution_count": 31,
   "metadata": {},
   "outputs": [],
   "source": [
    "# outlier analysis\n",
    "\n",
    "# graph histogram for rent and zoom in\n",
    "def plothisto(col,logornot=False):\n",
    "    if logornot:\n",
    "        pd[col].apply(np.log).hist(bins=100)\n",
    "    else:\n",
    "        pd[col].hist(bins=100)\n",
    "    plt.show()\n",
    "\n",
    "# now graph its log\n"
   ]
  },
  {
   "cell_type": "code",
   "execution_count": 32,
   "metadata": {},
   "outputs": [
    {
     "data": {
      "image/png": "[encoded data removed]",
      "text/plain": [
       "<Figure size 640x480 with 1 Axes>"
      ]
     },
     "metadata": {},
     "output_type": "display_data"
    }
   ],
   "source": [
    "x = 'rent'\n",
    "\n",
    "plothisto(x,True)"
   ]
  },
  {
   "cell_type": "code",
   "execution_count": 33,
   "metadata": {},
   "outputs": [
    {
     "name": "stdout",
     "output_type": "stream",
     "text": [
      "4000.0\n",
      "13184.878039998415\n",
      "9.0\n",
      "8.0\n",
      "12.0\n"
     ]
    }
   ],
   "source": [
    "# how to remove to 95 percentile\n",
    "print(pd['rent'].quantile(0.9999))\n",
    "print(pd['distance_to_cbd'].quantile(0.9999))\n",
    "print(pd['num_bedrooms'].quantile(0.9999))\n",
    "print(pd['num_bathrooms'].quantile(0.9999))\n",
    "print(pd['parking'].quantile(0.9999))\n",
    "\n",
    "pd = pd[pd['rent'] < pd['rent'].quantile(0.9999)]\n",
    "pd = pd[pd['distance_to_cbd'] < pd['distance_to_cbd'].quantile(0.99999)]\n",
    "pd = pd[pd['num_bedrooms'] < pd['num_bedrooms'].quantile(0.9999)]\n",
    "pd = pd[pd['num_bathrooms'] < pd['num_bathrooms'].quantile(0.9999)]\n",
    "pd = pd[pd['parking'] < pd['parking'].quantile(0.9999)]\n",
    "\n",
    "# pd = pd[pd[x] < pd[x].quantile(0.95)]\n"
   ]
  },
  {
   "cell_type": "code",
   "execution_count": 34,
   "metadata": {},
   "outputs": [
    {
     "name": "stdout",
     "output_type": "stream",
     "text": [
      "unique_id          0\n",
      "postcode           0\n",
      "suburb             0\n",
      "property_type      0\n",
      "address            0\n",
      "rent               0\n",
      "num_bedrooms       0\n",
      "num_bathrooms      0\n",
      "parking            0\n",
      "distance_to_cbd    0\n",
      "Listing date       0\n",
      "latitude           0\n",
      "longitude          0\n",
      "dtype: int64\n",
      "745589\n"
     ]
    }
   ],
   "source": [
    "print(pd.isna().sum())\n",
    "print(len(pd))\n",
    "\n"
   ]
  },
  {
   "cell_type": "code",
   "execution_count": 35,
   "metadata": {},
   "outputs": [
    {
     "data": {
      "text/html": [
       "<div>\n",
       "<style scoped>\n",
       "    .dataframe tbody tr th:only-of-type {\n",
       "        vertical-align: middle;\n",
       "    }\n",
       "\n",
       "    .dataframe tbody tr th {\n",
       "        vertical-align: top;\n",
       "    }\n",
       "\n",
       "    .dataframe thead th {\n",
       "        text-align: right;\n",
       "    }\n",
       "</style>\n",
       "<table border=\"1\" class=\"dataframe\">\n",
       "  <thead>\n",
       "    <tr style=\"text-align: right;\">\n",
       "      <th></th>\n",
       "      <th>unique_id</th>\n",
       "      <th>postcode</th>\n",
       "      <th>rent</th>\n",
       "      <th>num_bedrooms</th>\n",
       "      <th>num_bathrooms</th>\n",
       "      <th>parking</th>\n",
       "      <th>distance_to_cbd</th>\n",
       "      <th>latitude</th>\n",
       "      <th>longitude</th>\n",
       "    </tr>\n",
       "  </thead>\n",
       "  <tbody>\n",
       "    <tr>\n",
       "      <th>count</th>\n",
       "      <td>7.455890e+05</td>\n",
       "      <td>745589.000000</td>\n",
       "      <td>745589.000000</td>\n",
       "      <td>745589.000000</td>\n",
       "      <td>745589.000000</td>\n",
       "      <td>745589.000000</td>\n",
       "      <td>745589.000000</td>\n",
       "      <td>745589.000000</td>\n",
       "      <td>745589.000000</td>\n",
       "    </tr>\n",
       "    <tr>\n",
       "      <th>mean</th>\n",
       "      <td>1.680925e+08</td>\n",
       "      <td>3246.758077</td>\n",
       "      <td>419.923896</td>\n",
       "      <td>2.605403</td>\n",
       "      <td>1.435318</td>\n",
       "      <td>1.534045</td>\n",
       "      <td>42.569597</td>\n",
       "      <td>-37.760350</td>\n",
       "      <td>144.939885</td>\n",
       "    </tr>\n",
       "    <tr>\n",
       "      <th>std</th>\n",
       "      <td>1.398926e+08</td>\n",
       "      <td>272.308436</td>\n",
       "      <td>193.616409</td>\n",
       "      <td>0.927926</td>\n",
       "      <td>0.558073</td>\n",
       "      <td>0.772311</td>\n",
       "      <td>164.093565</td>\n",
       "      <td>0.947282</td>\n",
       "      <td>2.310488</td>\n",
       "    </tr>\n",
       "    <tr>\n",
       "      <th>min</th>\n",
       "      <td>3.035450e+05</td>\n",
       "      <td>3000.000000</td>\n",
       "      <td>1.000000</td>\n",
       "      <td>1.000000</td>\n",
       "      <td>1.000000</td>\n",
       "      <td>1.000000</td>\n",
       "      <td>0.030000</td>\n",
       "      <td>-41.294499</td>\n",
       "      <td>-123.369898</td>\n",
       "    </tr>\n",
       "    <tr>\n",
       "      <th>25%</th>\n",
       "      <td>3.480485e+07</td>\n",
       "      <td>3064.000000</td>\n",
       "      <td>320.000000</td>\n",
       "      <td>2.000000</td>\n",
       "      <td>1.000000</td>\n",
       "      <td>1.000000</td>\n",
       "      <td>8.160000</td>\n",
       "      <td>-37.919544</td>\n",
       "      <td>144.892900</td>\n",
       "    </tr>\n",
       "    <tr>\n",
       "      <th>50%</th>\n",
       "      <td>3.990860e+07</td>\n",
       "      <td>3151.000000</td>\n",
       "      <td>375.000000</td>\n",
       "      <td>3.000000</td>\n",
       "      <td>1.000000</td>\n",
       "      <td>1.000000</td>\n",
       "      <td>18.060000</td>\n",
       "      <td>-37.830578</td>\n",
       "      <td>145.002670</td>\n",
       "    </tr>\n",
       "    <tr>\n",
       "      <th>75%</th>\n",
       "      <td>3.114835e+08</td>\n",
       "      <td>3226.000000</td>\n",
       "      <td>460.000000</td>\n",
       "      <td>3.000000</td>\n",
       "      <td>2.000000</td>\n",
       "      <td>2.000000</td>\n",
       "      <td>40.290000</td>\n",
       "      <td>-37.751804</td>\n",
       "      <td>145.127910</td>\n",
       "    </tr>\n",
       "    <tr>\n",
       "      <th>max</th>\n",
       "      <td>3.320003e+08</td>\n",
       "      <td>3996.000000</td>\n",
       "      <td>3850.000000</td>\n",
       "      <td>8.000000</td>\n",
       "      <td>6.000000</td>\n",
       "      <td>11.000000</td>\n",
       "      <td>16913.640000</td>\n",
       "      <td>200.000000</td>\n",
       "      <td>200.000000</td>\n",
       "    </tr>\n",
       "  </tbody>\n",
       "</table>\n",
       "</div>"
      ],
      "text/plain": [
       "          unique_id       postcode           rent   num_bedrooms  \\\n",
       "count  7.455890e+05  745589.000000  745589.000000  745589.000000   \n",
       "mean   1.680925e+08    3246.758077     419.923896       2.605403   \n",
       "std    1.398926e+08     272.308436     193.616409       0.927926   \n",
       "min    3.035450e+05    3000.000000       1.000000       1.000000   \n",
       "25%    3.480485e+07    3064.000000     320.000000       2.000000   \n",
       "50%    3.990860e+07    3151.000000     375.000000       3.000000   \n",
       "75%    3.114835e+08    3226.000000     460.000000       3.000000   \n",
       "max    3.320003e+08    3996.000000    3850.000000       8.000000   \n",
       "\n",
       "       num_bathrooms        parking  distance_to_cbd       latitude  \\\n",
       "count  745589.000000  745589.000000    745589.000000  745589.000000   \n",
       "mean        1.435318       1.534045        42.569597     -37.760350   \n",
       "std         0.558073       0.772311       164.093565       0.947282   \n",
       "min         1.000000       1.000000         0.030000     -41.294499   \n",
       "25%         1.000000       1.000000         8.160000     -37.919544   \n",
       "50%         1.000000       1.000000        18.060000     -37.830578   \n",
       "75%         2.000000       2.000000        40.290000     -37.751804   \n",
       "max         6.000000      11.000000     16913.640000     200.000000   \n",
       "\n",
       "           longitude  \n",
       "count  745589.000000  \n",
       "mean      144.939885  \n",
       "std         2.310488  \n",
       "min      -123.369898  \n",
       "25%       144.892900  \n",
       "50%       145.002670  \n",
       "75%       145.127910  \n",
       "max       200.000000  "
      ]
     },
     "execution_count": 35,
     "metadata": {},
     "output_type": "execute_result"
    }
   ],
   "source": [
    "pd.describe()"
   ]
  },
  {
   "cell_type": "code",
   "execution_count": 36,
   "metadata": {},
   "outputs": [],
   "source": [
    "pd.to_csv('../data/raw/preprocessing_houseprices.csv', index=False)"
   ]
  },
  {
   "cell_type": "code",
   "execution_count": null,
   "metadata": {},
   "outputs": [],
   "source": []
  }
 ],
 "metadata": {
  "kernelspec": {
   "display_name": "Python 3",
   "language": "python",
   "name": "python3"
  },
  "language_info": {
   "codemirror_mode": {
    "name": "ipython",
    "version": 3
   },
   "file_extension": ".py",
   "mimetype": "text/x-python",
   "name": "python",
   "nbconvert_exporter": "python",
   "pygments_lexer": "ipython3",
   "version": "3.11.7"
  }
 },
 "nbformat": 4,
 "nbformat_minor": 2
}
