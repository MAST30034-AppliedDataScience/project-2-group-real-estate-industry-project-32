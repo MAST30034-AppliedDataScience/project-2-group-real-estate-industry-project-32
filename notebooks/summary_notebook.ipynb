{
 "cells": [
  {
   "cell_type": "markdown",
   "metadata": {},
   "source": [
    "# Real estate consulting "
   ]
  },
  {
   "cell_type": "markdown",
   "metadata": {},
   "source": [
    "Group Number: 32\n",
    "\n",
    "Members:\n",
    "\n",
    "- Manan Saddi( student id: 1353292)\n",
    "- Jeremy Lau (???)\n",
    "- Kevin Tang (???) \n",
    "- Daniel Nappa (???)"
   ]
  },
  {
   "cell_type": "markdown",
   "metadata": {},
   "source": [
    "The summary book has the following topics:\n",
    "\n",
    "- The preprocessing \n",
    "- The features aggregation and engeneering\n",
    "- the Model\n",
    "    - ARIMA\n",
    "    - Ridge regression\n",
    "    - Random forrest\n",
    "    - XGboost \n",
    "- The findings \n",
    "- the limitations and the assumptions "
   ]
  },
  {
   "cell_type": "markdown",
   "metadata": {},
   "source": [
    "## Scraping the data"
   ]
  },
  {
   "cell_type": "markdown",
   "metadata": {},
   "source": [
    "Daniel part(talk about how it was scraced and where it was scraped as well refer to the link posted on disc regarding this )"
   ]
  },
  {
   "cell_type": "markdown",
   "metadata": {},
   "source": [
    "## The Datasets(ADD ANY DATASETS NOT MENTIONED ELABORATE ON THEM IF NEEDED)"
   ]
  },
  {
   "cell_type": "markdown",
   "metadata": {},
   "source": [
    "- The historical domain dataset: Listings obtained by scraping, this dataset was used to conduct the EDA as well as the modelling\n",
    "    ..this dataset contained columnn such as: \n",
    "\n",
    "    - **unique_id** (Int64): Unique identifier for the property.\n",
    "    - **street_name** (String): Name of the street where the property is located.\n",
    "    - **state** (String): The state in which the property is located.\n",
    "    - **postcode** (Int64): Postcode of the property's location.\n",
    "    - **suburb** (String): Suburb in which the property is located.\n",
    "    - **property_type** (String): Type of the property (e.g., house, apartment).\n",
    "    - **address** (String): Full address of the property.\n",
    "    - **rent** (Float64): Rent amount for the property.\n",
    "    - **num_bedrooms** (Int64): Number of bedrooms in the property.\n",
    "    - **num_bathrooms** (Int64): Number of bathrooms in the property.\n",
    "    - **parking** (Int64): Number of parking spaces available for the property.\n",
    "    - **distance_to_cbd** (Float64): Distance from the property to the Central Business District (CBD) in kilometers.\n",
    "    - **sold_date** (String): Date when the property was sold.\n",
    "    - **latitude** (Float64): Latitude coordinate of the property.\n",
    "    - **longitude** (Float64): Longitude coordinate of the property.\n",
    "\n",
    "- The Domain dataset: Listings obtained by scraping the domain website, this dataset was used in conjunction to the historical dataset to conduct the EDA and the          modelling, The columns used for this dataset were the same as the historical dataset(hence they were merged).\n",
    "\n",
    "- The School scoring by suburbs dataset: (Kevin)\n",
    "\n",
    "- The LGA population dataset: (Kevin)\n",
    "\n",
    "- The LGA crime dataset: (Kevin)\n",
    "\n",
    "- The Suburb to LGA : This Dataset maps the suburbs to its matching LGA\n",
    "\n",
    "- The SA2 Dataset: This contains the geometries of the SA2 areas.\n",
    "\n",
    "- The Suburb dataset: This is suburb mappings contains the gemetry for the suburbs in victoria.\n",
    "\n",
    "- The Station dataset: This contains the information on the train stops and there geometries.\n",
    "\n",
    "\n",
    "\n"
   ]
  },
  {
   "cell_type": "markdown",
   "metadata": {},
   "source": [
    "## Preprocessing"
   ]
  },
  {
   "cell_type": "markdown",
   "metadata": {},
   "source": [
    "### Main Internal Factors Included \n"
   ]
  },
  {
   "cell_type": "markdown",
   "metadata": {},
   "source": [
    "- The Type of propeties\n",
    "- The number of bedrooms \n",
    "- The number of bathrooms \n",
    "- The car parking spaces on the property \n",
    "- The Longitude/Latitude of the property\n",
    "- Suburb the property resides in "
   ]
  },
  {
   "cell_type": "markdown",
   "metadata": {},
   "source": [
    "### Main External Factors Included \n"
   ]
  },
  {
   "cell_type": "markdown",
   "metadata": {},
   "source": [
    "- The distance to the cbd per property\n",
    "- The distance to the closest train station\n",
    "- The Suburb's number of education centres/primrary schools and the number of high scoring highschools(assumption : we considered the VCAA percentage of per school 40+ study score to rank the school as it, in way encapsulates the schools quality)\n",
    "- The population density of the LGA(local government area), it was used as a way to estimate the population density of suburb(assumption : the population density of suburb ~ the population density)\n",
    "- The crime density of the LGA(local government area), it was used as a way to estimate the crime density of suburb(assumption : the crime density of suburb ~ the crime  density)\n",
    "\n"
   ]
  },
  {
   "cell_type": "markdown",
   "metadata": {},
   "source": [
    "### Preprocessing the Domain Datasets and the historical dataset"
   ]
  },
  {
   "cell_type": "markdown",
   "metadata": {},
   "source": [
    "- We made sure that the rent/bedroom/bathrooms and etc., columns that were meant to be positive, have all there values be positive(the non-positive values were rooted)\n",
    "- We made sure that the rows with empty catigorical values(property type,suburbs and etc) were removed to maintain the quality of the data \n",
    "- the column names were made identical for both the datasets to be merged(Domain dataset and the historical dataset)\n",
    "- the categorical values for these rent properties were converted to lowercase\n",
    "- the invalid longitude and latitude for the rented properties were discarded(for example the longititude and latitude was 0 for some rows which is invalid)\n",
    "- the properties not in victoria were disincluded as well since we are assessing the rental prices in victoria, and have=ing those data points would taint our research topic \n",
    "\n",
    "these tasks were completed in:\n",
    "\n",
    "/notebooks/preprocess_doman_listings.ipynb  \n",
    "\n",
    "and \n",
    "\n",
    "/notebooks/preprocess_auhouseprices_listings.ipynb"
   ]
  },
  {
   "cell_type": "markdown",
   "metadata": {},
   "source": [
    "### Outlier analysis"
   ]
  },
  {
   "cell_type": "markdown",
   "metadata": {},
   "source": [
    "it can be seen below that the rental properties, summary below migh be unreasonable as the property with the maximum number of bedrooms has 650 bedrooms and the most expensive property has an absurdly high rent, hence for the domain and the historical data we required outlier removal, not removing these outliers would leed to innacurate models and analysis."
   ]
  },
  {
   "cell_type": "markdown",
   "metadata": {},
   "source": [
    "![Getting Started](../plots/Screenshot%202024-10-07%20at%208.45.45 PM.png)\n",
    "\n",
    "\n",
    "<!-- 'Screenshot 2024-10-07 at 8.45.45 PM.png' -->"
   ]
  },
  {
   "cell_type": "markdown",
   "metadata": {},
   "source": [
    "To deal with the outliers we eliminated the top percentile of the results mosly, since there were a lot of absurdly high values. in the data we have disposed of a lot of the feature's  above ~99.99 percentile data.\n",
    "\n",
    "bellow is the code used to achieve this result \n",
    "\n",
    "Asummption/limitation : the quantiles we chose were arbitrary, hence might have lead to overfitting"
   ]
  },
  {
   "cell_type": "markdown",
   "metadata": {},
   "source": [
    "\n",
    "\n",
    "The following visualization helps in understanding the distribution of rental properties and identifying potential outliers:\n",
    "\n",
    "![Outlier Analysis](../plots/outlierAfter.png)\n",
    "\n",
    "<!-- 'Screenshot 2024-10-07 at 9.51.06 PM.png' -->"
   ]
  }
 ],
 "metadata": {
  "kernelspec": {
   "display_name": "ads_env_3",
   "language": "python",
   "name": "python3"
  },
  "language_info": {
   "name": "python",
   "version": "3.11.7"
  }
 },
 "nbformat": 4,
 "nbformat_minor": 2
}
