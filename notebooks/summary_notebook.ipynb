{
 "cells": [
  {
   "cell_type": "markdown",
   "metadata": {},
   "source": [
    "# Real estate consulting "
   ]
  },
  {
   "cell_type": "markdown",
   "metadata": {},
   "source": [
    "Group Number: 32 \n",
    "Members:\n",
    "\n",
    "Manan Saddi( student id: 1353292)\n",
    "Jeren"
   ]
  }
 ],
 "metadata": {
  "kernelspec": {
   "display_name": "ads_env_3",
   "language": "python",
   "name": "python3"
  },
  "language_info": {
   "name": "python",
   "version": "3.11.7"
  }
 },
 "nbformat": 4,
 "nbformat_minor": 2
}
