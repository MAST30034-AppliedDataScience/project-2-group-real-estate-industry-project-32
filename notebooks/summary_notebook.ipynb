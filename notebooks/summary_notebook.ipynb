{
 "cells": [
  {
   "cell_type": "markdown",
   "metadata": {},
   "source": [
    "# Real estate consulting "
   ]
  },
  {
   "cell_type": "markdown",
   "metadata": {},
   "source": [
    "Group Number: 32\n",
    "\n",
    "Members:\n",
    "\n",
    "- Manan Saddi (Student ID: 1353292)\n",
    "- Jeremy Lau (Student ID:1356056)\n",
    "- Kevin Tang (Student ID: 1080171)\n",
    "- Daniel Nappa (Student ID: 1170717)"
   ]
  },
  {
   "cell_type": "markdown",
   "metadata": {},
   "source": [
    "The summary book has the following topics:\n",
    "\n",
    "- Data Scraping \n",
    "- The preprocessing \n",
    "- The features aggregation and engineering\n",
    "- the Model\n",
    "    - ARIMA\n",
    "    - Ridge regression\n",
    "    - Random forrest\n",
    "    - XGboost \n",
    "- The findings \n",
    "- the Limitations and the Assumptions "
   ]
  },
  {
   "cell_type": "code",
   "execution_count": 13,
   "metadata": {},
   "outputs": [],
   "source": [
    "# Libraries required to run the notebook\n",
    "import pandas as pd\n",
    "from folium import Figure\n",
    "from PIL import Image"
   ]
  },
  {
   "cell_type": "markdown",
   "metadata": {},
   "source": [
    "## `Data Scraping`"
   ]
  },
  {
   "cell_type": "markdown",
   "metadata": {},
   "source": [
    "`scripts\\domain_scraper.py` is the main scraping script, upon execution, the user is prompted with a menu outputted to the console to select which steps of scraping to perform, from either the data sources of `domain.com.au` (rental listing data for testing) or `auhouseprices.com` (historical rental listings for training). \n",
    "\n",
    "The `DomainScraper` class in `scripts\\domain_scraper.py` is designed to scrape rental listings from the domain.com.au website for rental property listings in Victoria, Australia. The scraper utilizes several Python libraries to enhance its functionality and performance. \n",
    " - `requests` is used for making HTTP requests to fetch the web pages, while `json` is used to parse the JSON responses. \n",
    " - To greatly increase the scraping rate, `threading`  is used, allowing the scraper to process multiple pages concurrently, significantly speeding up the scraping process. \n",
    " - `numpy` is used to partition the list of pages into smaller chunks, of which each partition is then delegated to a single thread. \n",
    " - The `rich` library is utilized to display a progress bar in the console, providing real-time feedback on the scraping progress. \n",
    " - For the procedure of scraping the Victorian Rental Listings, the `DomainScraper` uses a stack to implement a depth-first search (DFS) to traverse property listings from suggested property listings of a given listing, through each page to get all rental listings for Victoria. This approach ensures that all possible related listings are explored thoroughly.\n",
    " - The scraper handles previously visited URLs and collisions, ensuring that each listing is processed only once.\n",
    " - The scraper conducts a myriad of sanity checks upon receiving a `.json` response, such as ensuring the necessary `.json` fields exist, are populated, and contain certain values, for example, ensuring the currently visited property listing is actually in Victoria. Otherwise, the scraper skips the listing. \n",
    " - The scraper makes requests for a given listing to `domain.com.au` with `application\\json` as the requested encoding for the `Accept` and `Content-Type` headers. This was discovered as all rental listing URLs have an equivalent `.json` encoding to their `.html` counterparts, improving the convenience of parsing data. \n",
    " - The number of threads used for scraping may need to be adjusted to a lower pool size by reducing the number of partitions, to account for IP blocking when scraping from `domain.com.au`\n",
    " - All scraped `.json` files are named corresponding to the property ID determined by Domain, and successfully scraped `.json` files are stored in the `landing` layer. "
   ]
  },
  {
   "cell_type": "markdown",
   "metadata": {},
   "source": [
    "The `AuHousePricesScraper` class in `scripts/auhouseprices_scraper.py` is designed to scrape property data from the `auhouseprices.com`, focusing on rental listings in Victoria. This scraper is built to handle the large database of rental listings from `auhouseprices.com` through a combination of asynchronous requests, multiprocessing, and error handling mechanisms.\n",
    "\n",
    "- **Initial Setup**: The scraper starts by setting up directories for storing raw and landing data if they do not already exist. It ensures the necessary folders exist before proceeding with any scraping or data storage operations.\n",
    "\n",
    "- **Sitemap Parsing**: The scraper first retrieves and parses the website's sitemap XML file, specifically focusing on URLs related to Victorian rental listings. This step is crucial as it allows the scraper to gather all relevant URLs in a single pass without having to perform an exhaustive search on the website, reducing load on the host server.\n",
    "\n",
    "- **Async HTTP Requests**: For the actual scraping process, `asyncio` is used to manage asynchronous tasks, allowing multiple HTTP requests to be made concurrently. The `aiohttp` library handles these requests, fetching the HTML content of each rental listing. This approach speeds up the scraping process significantly by avoiding the blocking nature of traditional synchronous requests, by using a different proxy session for each asynchronous task delegated to a partition of rental listing URLS.\n",
    "\n",
    "- **Proxy Management**: To handle potential IP blocking, the scraper incorporates proxy management via the `get_proxy_url_brightdata` function, which rotates proxy sessions dynamically. This ensures the scraper can continue operating without being blocked by the host server, especially when dealing with large numbers of requests.\n",
    "\n",
    "- **Storing HTML Files**: Once the HTML content for each listing is retrieved, it is saved as a `.html` file in the `landing` layer. These files serve as the raw data that will later be parsed and processed.\n",
    "\n",
    "- **Preprocessing of HTML Files**: In the next phase, the user can choose to preprocess the scraped `.html` files. This step involves parsing the HTML to extract structured data (e.g., property type, address, rent, etc.). The preprocessing is a CPU-bound task, which is why 1multiprocessing` is employed here to speed up the parsing process. \n",
    "\n",
    "- **Multiprocessing for Parsing**: This is where the heavy lifting occurs, as the raw HTML data is parsed and processed. Since this is a CPU-bound task, `multiprocessing` is employed to parallelize the workload across multiple CPU cores. This improves performance when processing the large number of saved HTML files, converting them into structured datasets. By splitting the list of `.html` files into partitions, each partition is assigned to a separate process for parsing. This parallelization ensures efficient use of CPU resources, significantly reducing the time needed for preprocessing a large amount of rental listings. \n",
    "\n",
    "- **Progress Tracking**: Throughout both the scraping and parsing stages, the `rich` library is used to provide visual feedback to the user. Progress bars are displayed in the console, indicating the number of listings processed and giving real-time updates on the overall progress.\n",
    "\n",
    "- **Error Handling and Retries**: The scraper includes mechanisms to handle errors, such as failed requests or missing data fields. It also handles retries when requests fail or proxies become unavailable. Additionally, erroneous listings are flagged and logged for re-scraping, ensuring that no data is lost or skipped.\n",
    "\n",
    "- **Storing Parsed Data**: Once the HTML files have been processed, the extracted data is stored in CSV files in the `raw` layer. These files contain structured information such as property type, rent, address, geographic coordinates, and other relevant details.\n",
    "\n",
    "- **Handling Extra URLs and Erroneous Files**: The scraper also identifies additional URLs for related listings and attempts to re-scrape erroneous listings. It compares the checksums of re-scraped files with the originals to ensure data integrity.\n",
    "\n",
    "This organized, asynchronous, and multiprocessing-based approach allows for efficient scraping and parsing of rental listings on auhouseprices.com, ensuring that data is collected and processed quickly and accurately."
   ]
  },
  {
   "cell_type": "markdown",
   "metadata": {},
   "source": [
    "- The historical domain dataset (from `auhouseprices.com`): Listings obtained by scraping, this dataset was used to conduct the EDA as well as the modelling\n",
    "    ..this dataset contained columnn such as: \n",
    "\n",
    "    - **unique_id** (Int64): Unique identifier for the property.\n",
    "    - **street_name** (String): Name of the street where the property is located.\n",
    "    - **state** (String): The state in which the property is located.\n",
    "    - **postcode** (Int64): Postcode of the property's location.\n",
    "    - **suburb** (String): Suburb in which the property is located.\n",
    "    - **property_type** (String): Type of the property (e.g., house, apartment).\n",
    "    - **address** (String): Full address of the property.\n",
    "    - **rent** (Float64): Rent amount for the property.\n",
    "    - **num_bedrooms** (Int64): Number of bedrooms in the property.\n",
    "    - **num_bathrooms** (Int64): Number of bathrooms in the property.\n",
    "    - **parking** (Int64): Number of parking spaces available for the property.\n",
    "    - **distance_to_cbd** (Float64): Distance from the property to the Central Business District (CBD) in kilometers.\n",
    "    - **sold_date** (String): Date when the property was sold.\n",
    "    - **latitude** (Float64): Latitude coordinate of the property.\n",
    "    - **longitude** (Float64): Longitude coordinate of the property.\n",
    "\n",
    "- The Domain dataset: Listings obtained by scraping the domain website, this dataset was used in conjunction to the historical dataset to conduct the EDA and the modelling. The columns used for this dataset were the same as the historical datase t(hence they were merged).\n",
    "\n",
    "- The School scoring by suburbs dataset: (Kevin)\n",
    "\n",
    "- The LGA population dataset: (Kevin)\n",
    "\n",
    "- The LGA crime dataset: (Kevin)\n",
    "\n",
    "- The Suburb to LGA : This Dataset maps the suburbs to its matching LGA\n",
    "\n",
    "- The SA2 Dataset: This contains the geometries of the SA2 areas.\n",
    "\n",
    "- The Suburb dataset: This is suburb mappings contains the gemetry for the suburbs in victoria.\n",
    "\n",
    "- The Station dataset: This contains the information on the train stops and there geometries.\n",
    "\n",
    "\n",
    "\n"
   ]
  },
  {
   "cell_type": "markdown",
   "metadata": {},
   "source": [
    "## `Preprocessing`"
   ]
  },
  {
   "cell_type": "markdown",
   "metadata": {},
   "source": [
    "### Main Internal Factors Included \n"
   ]
  },
  {
   "cell_type": "markdown",
   "metadata": {},
   "source": [
    "- The Type of propeties\n",
    "- The number of bedrooms \n",
    "- The number of bathrooms \n",
    "- The car parking spaces on the property \n",
    "- The Longitude/Latitude of the property\n",
    "- Suburb the property resides in "
   ]
  },
  {
   "cell_type": "markdown",
   "metadata": {},
   "source": [
    "### Main External Factors Included \n"
   ]
  },
  {
   "cell_type": "markdown",
   "metadata": {},
   "source": [
    "- The distance to the CBD per property\n",
    "- The distance to the closest train station\n",
    "- The Suburb's number of education centres/primrary schools and the number of high scoring highschools(assumption : we considered the VCAA percentage of per school 40+ study score to rank the school as it, in way encapsulates the schools quality)\n",
    "- The population density of the LGA(local government area), it was used as a way to estimate the population density of suburb(assumption : the population density of suburb ~ the population density)\n",
    "- The crime density of the LGA(local government area), it was used as a way to estimate the crime density of suburb(assumption : the crime density of suburb ~ the crime  density)\n",
    "\n"
   ]
  },
  {
   "cell_type": "markdown",
   "metadata": {},
   "source": [
    "### Preprocessing the `domain.com.au` Datasets and the historical (`auhouseprices.com`) dataset"
   ]
  },
  {
   "cell_type": "markdown",
   "metadata": {},
   "source": [
    "- We made sure that the rent/bedroom/bathrooms and etc., columns that were meant to be positive, have all there values be positive(the non-positive values were rooted)\n",
    "- We made sure that the rows with empty catigorical values(property type,suburbs and etc) were removed to maintain the quality of the data \n",
    "- the column names were made identical for both the datasets to be merged(Domain dataset and the historical dataset)\n",
    "- the categorical values for these rent properties were converted to lowercase\n",
    "- the invalid longitude and latitude for the rented properties were discarded(for example the longititude and latitude was 0 for some rows which is invalid)\n",
    "- the properties not in victoria were disincluded as well since we are assessing the rental prices in victoria, and have=ing those data points would taint our research topic \n",
    "- (limitation) properties before 2015 were elinimated, since we were not able to find crime data before 2015, and precasting would have bought in unnecessary complexity \n",
    "- there properties that did not count as homes(for example warehouse and land), so we decided to dispose those rows to preserve our research topic \n",
    "\n",
    "these tasks were completed in:\n",
    "\n",
    "`/notebooks/preprocess_doman_listings.ipynb`\n",
    "and\n",
    "`/notebooks/preprocess_auhouseprices_listings.ipynb`"
   ]
  },
  {
   "cell_type": "markdown",
   "metadata": {},
   "source": [
    "### Preprocessing Population & Crime"
   ]
  },
  {
   "cell_type": "markdown",
   "metadata": {},
   "source": [
    "- Completed in: `/notebooks/preprocess_pop_and_crime.ipynb`\n",
    "- Population data from 2013 to 2023\n",
    "- Extracted rate crime rate per 100,000 population\n",
    "- Limitation & Assumptions\n",
    "    - The location for both population and crime data are by LGA, since our granularity for rental forecast is by suburbs,  we used `/notebooks/preprocess_suburb_lga_convert.ipynb` to map LGAs to suburbs.\n",
    "    - Since the population is only up to 2023 and we wish to also anlysis data for 2024, we used ARIMA to forecast the data for 2024, with an MAE accuracy of 7,196.67 means that, meaning the model’s population predictions were off by around 7,197 people per LGA."
   ]
  },
  {
   "cell_type": "markdown",
   "metadata": {},
   "source": [
    "### Preprocessing Schools"
   ]
  },
  {
   "cell_type": "markdown",
   "metadata": {},
   "source": [
    "- Data from Victorian Government, consists of all primary, secondary schools, as well as other education centres.\n",
    "- Completed in: `/notebooks/preprocess_schools.ipynb`\n",
    "- As shown in table below, we counted the number of schools in each suburb by school type & school exam performance\n",
    "- School Type: \n",
    "    1. primary schools\n",
    "    2. secondary schools (public, private, catholic)\n",
    "    3. education centres\n",
    "- School Performance based on percentage of students scoring VCE study score 40 and over\n",
    "    - Very High VCAA (VCE Exam Result): more than 15%\n",
    "    - Great Scoring: 10%-15%\n",
    "    - Good Scoring: 4.5%-9.5%"
   ]
  },
  {
   "cell_type": "code",
   "execution_count": 9,
   "metadata": {},
   "outputs": [
    {
     "data": {
      "text/html": [
       "<div>\n",
       "<style scoped>\n",
       "    .dataframe tbody tr th:only-of-type {\n",
       "        vertical-align: middle;\n",
       "    }\n",
       "\n",
       "    .dataframe tbody tr th {\n",
       "        vertical-align: top;\n",
       "    }\n",
       "\n",
       "    .dataframe thead th {\n",
       "        text-align: right;\n",
       "    }\n",
       "</style>\n",
       "<table border=\"1\" class=\"dataframe\">\n",
       "  <thead>\n",
       "    <tr style=\"text-align: right;\">\n",
       "      <th></th>\n",
       "      <th>Unnamed: 0</th>\n",
       "      <th>suburb</th>\n",
       "      <th>num_primary</th>\n",
       "      <th>num_secondary_public</th>\n",
       "      <th>num_secondary_private</th>\n",
       "      <th>num_secondary_catholic</th>\n",
       "      <th>num_edu_centre</th>\n",
       "      <th>v_high_vcaa</th>\n",
       "      <th>high_vcaa</th>\n",
       "      <th>good_vcaa</th>\n",
       "    </tr>\n",
       "  </thead>\n",
       "  <tbody>\n",
       "    <tr>\n",
       "      <th>0</th>\n",
       "      <td>0</td>\n",
       "      <td>abbotsford</td>\n",
       "      <td>2</td>\n",
       "      <td>0</td>\n",
       "      <td>1</td>\n",
       "      <td>0</td>\n",
       "      <td>0</td>\n",
       "      <td>0.0</td>\n",
       "      <td>0.0</td>\n",
       "      <td>0.0</td>\n",
       "    </tr>\n",
       "    <tr>\n",
       "      <th>1</th>\n",
       "      <td>1</td>\n",
       "      <td>aberfeldie</td>\n",
       "      <td>1</td>\n",
       "      <td>0</td>\n",
       "      <td>0</td>\n",
       "      <td>1</td>\n",
       "      <td>0</td>\n",
       "      <td>0.0</td>\n",
       "      <td>0.0</td>\n",
       "      <td>1.0</td>\n",
       "    </tr>\n",
       "    <tr>\n",
       "      <th>2</th>\n",
       "      <td>2</td>\n",
       "      <td>aintree</td>\n",
       "      <td>1</td>\n",
       "      <td>0</td>\n",
       "      <td>0</td>\n",
       "      <td>0</td>\n",
       "      <td>0</td>\n",
       "      <td>0.0</td>\n",
       "      <td>0.0</td>\n",
       "      <td>0.0</td>\n",
       "    </tr>\n",
       "    <tr>\n",
       "      <th>3</th>\n",
       "      <td>3</td>\n",
       "      <td>aireys inlet</td>\n",
       "      <td>1</td>\n",
       "      <td>0</td>\n",
       "      <td>0</td>\n",
       "      <td>0</td>\n",
       "      <td>0</td>\n",
       "      <td>0.0</td>\n",
       "      <td>0.0</td>\n",
       "      <td>0.0</td>\n",
       "    </tr>\n",
       "    <tr>\n",
       "      <th>4</th>\n",
       "      <td>4</td>\n",
       "      <td>airly</td>\n",
       "      <td>1</td>\n",
       "      <td>0</td>\n",
       "      <td>0</td>\n",
       "      <td>0</td>\n",
       "      <td>0</td>\n",
       "      <td>0.0</td>\n",
       "      <td>0.0</td>\n",
       "      <td>0.0</td>\n",
       "    </tr>\n",
       "  </tbody>\n",
       "</table>\n",
       "</div>"
      ],
      "text/plain": [
       "   Unnamed: 0        suburb  num_primary  num_secondary_public  \\\n",
       "0           0    abbotsford            2                     0   \n",
       "1           1    aberfeldie            1                     0   \n",
       "2           2       aintree            1                     0   \n",
       "3           3  aireys inlet            1                     0   \n",
       "4           4         airly            1                     0   \n",
       "\n",
       "   num_secondary_private  num_secondary_catholic  num_edu_centre  v_high_vcaa  \\\n",
       "0                      1                       0               0          0.0   \n",
       "1                      0                       1               0          0.0   \n",
       "2                      0                       0               0          0.0   \n",
       "3                      0                       0               0          0.0   \n",
       "4                      0                       0               0          0.0   \n",
       "\n",
       "   high_vcaa  good_vcaa  \n",
       "0        0.0        0.0  \n",
       "1        0.0        1.0  \n",
       "2        0.0        0.0  \n",
       "3        0.0        0.0  \n",
       "4        0.0        0.0  "
      ]
     },
     "execution_count": 9,
     "metadata": {},
     "output_type": "execute_result"
    }
   ],
   "source": [
    "file_path = '../data/curated/schools_preprocessed.csv'\n",
    "df = pd.read_csv(file_path)\n",
    "df.head() "
   ]
  },
  {
   "cell_type": "markdown",
   "metadata": {},
   "source": [
    "- Limitations & Assumptions\n",
    "    - The count for each suburb does not take nearby suburbs into account, future studies could implement proximity to schools for each property\n",
    "    - Although the scoring provides a generally accurate representation of the school's academic reputation, the percentage cut-off between top scoring and great scoring schools may not be strictly accurate, and factors like extra-curricular activities may also play a role in school's reputation and education quality; in addition, we could also potentially look for data like enrolment, school transfer, surveys to provide a better representation of school reputatuion"
   ]
  },
  {
   "cell_type": "markdown",
   "metadata": {},
   "source": [
    "### Outlier analysis"
   ]
  },
  {
   "cell_type": "markdown",
   "metadata": {},
   "source": [
    "it can be seen below that the rental properties, summary below migh be unreasonable as the property with the maximum number of bedrooms has 650 bedrooms and the most expensive property has an absurdly high rent, hence for the domain and the historical data we required outlier removal, not removing these outliers would leed to innacurate models and analysis."
   ]
  },
  {
   "cell_type": "markdown",
   "metadata": {},
   "source": [
    "![Getting Started](../plots/Screenshot%202024-10-07%20at%208.45.45 PM.png)\n",
    "\n",
    "\n",
    "<!-- 'Screenshot 2024-10-07 at 8.45.45 PM.png' -->"
   ]
  },
  {
   "cell_type": "markdown",
   "metadata": {},
   "source": [
    "To deal with the outliers we eliminated the top percentile of the results mosly, since there were a lot of absurdly high values. in the data we have disposed of a lot of the feature's  above ~99.99 percentile data.\n",
    "\n",
    "bellow is the code used to achieve this result \n",
    "\n",
    "Asummption/limitation : the quantiles we chose were arbitrary, hence might have lead to overfitting"
   ]
  },
  {
   "cell_type": "markdown",
   "metadata": {},
   "source": [
    "\n",
    "\n",
    "The following visualization helps in understanding the distribution of rental properties and identifying potential outliers:\n",
    "\n",
    "![code outlier analysis](../plots/outlierAfter.png)\n",
    "\n",
    "<!-- 'Screenshot 2024-10-07 at 9.51.06 PM.png' -->"
   ]
  },
  {
   "cell_type": "markdown",
   "metadata": {},
   "source": [
    "after the taking out the outliers the values of the continous variables become a lot more feasable for a normal houses rent. as seen below..."
   ]
  },
  {
   "cell_type": "markdown",
   "metadata": {},
   "source": [
    "The following visualization helps in understanding the distribution of rental properties and identifying potential outliers:\n",
    "\n",
    "\n",
    "![Outlier Analysis](../plots/outlierdataafter.png)\n",
    "\n",
    "<!-- 'Screenshot 2024-10-07 at 9.51.06 PM.png' -->"
   ]
  },
  {
   "cell_type": "markdown",
   "metadata": {},
   "source": [
    "There was no outlier analysis needed from the other datasets since they were mostly secure, and since most of them were found on the government websites and diposing outlier values would have lead to inaccuracy...\n",
    "\n",
    "furthermore the code for preprocessing can be found in `/notebooks/preprocess_doman_listings.ipynb` and `/notebooks/preprocess_auhouseprices_listings.ipynb`"
   ]
  },
  {
   "cell_type": "markdown",
   "metadata": {},
   "source": [
    "### Feature agregation and Merging"
   ]
  },
  {
   "cell_type": "markdown",
   "metadata": {},
   "source": [
    "- the date column of the property was sepereated into month and year, as it was assumed there would be a trend between year vs rent and month vs year \n",
    "- the coordinates for the house in conjunction with the station data to find the line distance to the closest station(this was made into another columns)\n",
    "- we decided to change the property types given to us, for example since flat,appartments and units were similar properties and had similar prices we decided to group them toghether(by renaming them to `Apartment / Unit / Flat`)\n",
    "- the school data(as described) was attached to the propeties based on suburbs for each property(Assumption: suburbs that were not present in the schools data were assumed to have 0 schools, 0 high scoring schools and ect.)\n",
    "- The property types were encoded as one hot key, as we felt from our analysis that they were an important feature in deciding prices...\n",
    "- The LGA dataset was used to map the suburbs to there respective LGA, furter this was used to attach the LGA crime density and LGA population density to there respective suburb properties, the rows for which the LGA were not found were rooted to preserve data integrity, since their property Longitudes and Latitude did not match their suburb location(a lot of the time they were outside victoria).\n",
    "\n",
    "(assumption) Suburb statistics (population, crime) assumed to be similar to their LGA to capture surrounding information.\n",
    "\n",
    "\n",
    "(limitaion) We attempted to use Open route service API to obtain the route distance to the closest station(and the cbd) as a more realistic metric than line distance, however since the API only permited a limited number of distance requests per day(2500 on our plan), finding the closest station would not have been feasable for the 450k rows of data we had after preprocessing, even hosting our own servers there were a limited number of calls, we decided to go with the line distance ...\n",
    "\n",
    "Feature aggregation was done at `/notebooks/preprocess_auhouseprices_listings.ipynb` and `/notebooks/featureagg_oldhouse.ipynb`"
   ]
  },
  {
   "cell_type": "markdown",
   "metadata": {},
   "source": [
    "After the preprocessing and merging the main dataset went from  `~900k` rows  ---> `~484k` rows  "
   ]
  },
  {
   "cell_type": "code",
   "execution_count": 10,
   "metadata": {},
   "outputs": [
    {
     "data": {
      "text/html": [
       "<div>\n",
       "<style scoped>\n",
       "    .dataframe tbody tr th:only-of-type {\n",
       "        vertical-align: middle;\n",
       "    }\n",
       "\n",
       "    .dataframe tbody tr th {\n",
       "        vertical-align: top;\n",
       "    }\n",
       "\n",
       "    .dataframe thead th {\n",
       "        text-align: right;\n",
       "    }\n",
       "</style>\n",
       "<table border=\"1\" class=\"dataframe\">\n",
       "  <thead>\n",
       "    <tr style=\"text-align: right;\">\n",
       "      <th></th>\n",
       "      <th>suburb</th>\n",
       "      <th>rent</th>\n",
       "      <th>num_bedrooms</th>\n",
       "      <th>num_bathrooms</th>\n",
       "      <th>parking</th>\n",
       "      <th>distance_to_cbd</th>\n",
       "      <th>latitude</th>\n",
       "      <th>longitude</th>\n",
       "      <th>nearst_train_station_dist</th>\n",
       "      <th>year</th>\n",
       "      <th>...</th>\n",
       "      <th>property_type_house</th>\n",
       "      <th>property_type_retirement living</th>\n",
       "      <th>property_type_serviced apartment</th>\n",
       "      <th>property_type_studio</th>\n",
       "      <th>property_type_townhouse</th>\n",
       "      <th>property_type_villa</th>\n",
       "      <th>lga</th>\n",
       "      <th>Year</th>\n",
       "      <th>Rate per 100,000 population</th>\n",
       "      <th>lga_population</th>\n",
       "    </tr>\n",
       "  </thead>\n",
       "  <tbody>\n",
       "    <tr>\n",
       "      <th>0</th>\n",
       "      <td>melton west</td>\n",
       "      <td>449.0</td>\n",
       "      <td>4.0</td>\n",
       "      <td>2.0</td>\n",
       "      <td>2.0</td>\n",
       "      <td>39.400000</td>\n",
       "      <td>-37.664852</td>\n",
       "      <td>144.556370</td>\n",
       "      <td>15.035350</td>\n",
       "      <td>2015</td>\n",
       "      <td>...</td>\n",
       "      <td>True</td>\n",
       "      <td>False</td>\n",
       "      <td>False</td>\n",
       "      <td>False</td>\n",
       "      <td>False</td>\n",
       "      <td>False</td>\n",
       "      <td>melton</td>\n",
       "      <td>2015.0</td>\n",
       "      <td>7518.066931</td>\n",
       "      <td>134915.000000</td>\n",
       "    </tr>\n",
       "    <tr>\n",
       "      <th>1</th>\n",
       "      <td>southbank</td>\n",
       "      <td>585.0</td>\n",
       "      <td>2.0</td>\n",
       "      <td>2.0</td>\n",
       "      <td>1.0</td>\n",
       "      <td>1.560000</td>\n",
       "      <td>-37.827305</td>\n",
       "      <td>144.959050</td>\n",
       "      <td>1.219429</td>\n",
       "      <td>2015</td>\n",
       "      <td>...</td>\n",
       "      <td>False</td>\n",
       "      <td>False</td>\n",
       "      <td>False</td>\n",
       "      <td>False</td>\n",
       "      <td>False</td>\n",
       "      <td>False</td>\n",
       "      <td>melbourne</td>\n",
       "      <td>2015.0</td>\n",
       "      <td>25240.370565</td>\n",
       "      <td>136872.000000</td>\n",
       "    </tr>\n",
       "    <tr>\n",
       "      <th>2</th>\n",
       "      <td>rowville</td>\n",
       "      <td>390.0</td>\n",
       "      <td>3.0</td>\n",
       "      <td>1.0</td>\n",
       "      <td>2.0</td>\n",
       "      <td>26.460000</td>\n",
       "      <td>-37.920490</td>\n",
       "      <td>145.232380</td>\n",
       "      <td>7.008687</td>\n",
       "      <td>2015</td>\n",
       "      <td>...</td>\n",
       "      <td>True</td>\n",
       "      <td>False</td>\n",
       "      <td>False</td>\n",
       "      <td>False</td>\n",
       "      <td>False</td>\n",
       "      <td>False</td>\n",
       "      <td>knox</td>\n",
       "      <td>2015.0</td>\n",
       "      <td>6145.557656</td>\n",
       "      <td>158700.000000</td>\n",
       "    </tr>\n",
       "    <tr>\n",
       "      <th>3</th>\n",
       "      <td>springvale</td>\n",
       "      <td>400.0</td>\n",
       "      <td>4.0</td>\n",
       "      <td>2.0</td>\n",
       "      <td>1.0</td>\n",
       "      <td>21.750000</td>\n",
       "      <td>-37.940765</td>\n",
       "      <td>145.151440</td>\n",
       "      <td>0.985106</td>\n",
       "      <td>2015</td>\n",
       "      <td>...</td>\n",
       "      <td>True</td>\n",
       "      <td>False</td>\n",
       "      <td>False</td>\n",
       "      <td>False</td>\n",
       "      <td>False</td>\n",
       "      <td>False</td>\n",
       "      <td>greater dandenong</td>\n",
       "      <td>2015.0</td>\n",
       "      <td>11086.049686</td>\n",
       "      <td>156061.000000</td>\n",
       "    </tr>\n",
       "    <tr>\n",
       "      <th>4</th>\n",
       "      <td>ballarat east</td>\n",
       "      <td>290.0</td>\n",
       "      <td>3.0</td>\n",
       "      <td>1.0</td>\n",
       "      <td>1.0</td>\n",
       "      <td>98.350000</td>\n",
       "      <td>-37.568535</td>\n",
       "      <td>143.889040</td>\n",
       "      <td>73.684221</td>\n",
       "      <td>2015</td>\n",
       "      <td>...</td>\n",
       "      <td>False</td>\n",
       "      <td>False</td>\n",
       "      <td>False</td>\n",
       "      <td>False</td>\n",
       "      <td>False</td>\n",
       "      <td>False</td>\n",
       "      <td>ballarat</td>\n",
       "      <td>2015.0</td>\n",
       "      <td>10860.375053</td>\n",
       "      <td>101479.000000</td>\n",
       "    </tr>\n",
       "    <tr>\n",
       "      <th>...</th>\n",
       "      <td>...</td>\n",
       "      <td>...</td>\n",
       "      <td>...</td>\n",
       "      <td>...</td>\n",
       "      <td>...</td>\n",
       "      <td>...</td>\n",
       "      <td>...</td>\n",
       "      <td>...</td>\n",
       "      <td>...</td>\n",
       "      <td>...</td>\n",
       "      <td>...</td>\n",
       "      <td>...</td>\n",
       "      <td>...</td>\n",
       "      <td>...</td>\n",
       "      <td>...</td>\n",
       "      <td>...</td>\n",
       "      <td>...</td>\n",
       "      <td>...</td>\n",
       "      <td>...</td>\n",
       "      <td>...</td>\n",
       "      <td>...</td>\n",
       "    </tr>\n",
       "    <tr>\n",
       "      <th>484553</th>\n",
       "      <td>burwood east</td>\n",
       "      <td>1050.0</td>\n",
       "      <td>4.0</td>\n",
       "      <td>3.0</td>\n",
       "      <td>2.0</td>\n",
       "      <td>15.825365</td>\n",
       "      <td>-37.856688</td>\n",
       "      <td>145.132631</td>\n",
       "      <td>2.098144</td>\n",
       "      <td>2023</td>\n",
       "      <td>...</td>\n",
       "      <td>False</td>\n",
       "      <td>False</td>\n",
       "      <td>False</td>\n",
       "      <td>False</td>\n",
       "      <td>True</td>\n",
       "      <td>False</td>\n",
       "      <td>whitehorse</td>\n",
       "      <td>2023.0</td>\n",
       "      <td>4950.206842</td>\n",
       "      <td>178639.000000</td>\n",
       "    </tr>\n",
       "    <tr>\n",
       "      <th>484554</th>\n",
       "      <td>werribee south</td>\n",
       "      <td>560.0</td>\n",
       "      <td>4.0</td>\n",
       "      <td>2.0</td>\n",
       "      <td>2.0</td>\n",
       "      <td>28.143669</td>\n",
       "      <td>-37.963369</td>\n",
       "      <td>144.707632</td>\n",
       "      <td>8.197645</td>\n",
       "      <td>2022</td>\n",
       "      <td>...</td>\n",
       "      <td>True</td>\n",
       "      <td>False</td>\n",
       "      <td>False</td>\n",
       "      <td>False</td>\n",
       "      <td>False</td>\n",
       "      <td>False</td>\n",
       "      <td>wyndham</td>\n",
       "      <td>2022.0</td>\n",
       "      <td>5270.557664</td>\n",
       "      <td>309398.000000</td>\n",
       "    </tr>\n",
       "    <tr>\n",
       "      <th>484555</th>\n",
       "      <td>ferntree gully</td>\n",
       "      <td>700.0</td>\n",
       "      <td>3.0</td>\n",
       "      <td>2.0</td>\n",
       "      <td>2.0</td>\n",
       "      <td>28.016795</td>\n",
       "      <td>-37.882581</td>\n",
       "      <td>145.267643</td>\n",
       "      <td>2.431007</td>\n",
       "      <td>2022</td>\n",
       "      <td>...</td>\n",
       "      <td>False</td>\n",
       "      <td>False</td>\n",
       "      <td>False</td>\n",
       "      <td>False</td>\n",
       "      <td>False</td>\n",
       "      <td>False</td>\n",
       "      <td>knox</td>\n",
       "      <td>2022.0</td>\n",
       "      <td>5691.041624</td>\n",
       "      <td>159549.000000</td>\n",
       "    </tr>\n",
       "    <tr>\n",
       "      <th>484556</th>\n",
       "      <td>coburg</td>\n",
       "      <td>835.0</td>\n",
       "      <td>3.0</td>\n",
       "      <td>3.0</td>\n",
       "      <td>2.0</td>\n",
       "      <td>8.289849</td>\n",
       "      <td>-37.737269</td>\n",
       "      <td>144.982527</td>\n",
       "      <td>1.594189</td>\n",
       "      <td>2024</td>\n",
       "      <td>...</td>\n",
       "      <td>False</td>\n",
       "      <td>False</td>\n",
       "      <td>False</td>\n",
       "      <td>False</td>\n",
       "      <td>True</td>\n",
       "      <td>False</td>\n",
       "      <td>darebin</td>\n",
       "      <td>2024.0</td>\n",
       "      <td>9172.670623</td>\n",
       "      <td>155788.090972</td>\n",
       "    </tr>\n",
       "    <tr>\n",
       "      <th>484557</th>\n",
       "      <td>west footscray</td>\n",
       "      <td>680.0</td>\n",
       "      <td>3.0</td>\n",
       "      <td>2.0</td>\n",
       "      <td>2.0</td>\n",
       "      <td>7.766578</td>\n",
       "      <td>-37.792359</td>\n",
       "      <td>144.877398</td>\n",
       "      <td>1.197030</td>\n",
       "      <td>2024</td>\n",
       "      <td>...</td>\n",
       "      <td>False</td>\n",
       "      <td>False</td>\n",
       "      <td>False</td>\n",
       "      <td>False</td>\n",
       "      <td>True</td>\n",
       "      <td>False</td>\n",
       "      <td>maribyrnong</td>\n",
       "      <td>2024.0</td>\n",
       "      <td>11323.117749</td>\n",
       "      <td>92051.970181</td>\n",
       "    </tr>\n",
       "  </tbody>\n",
       "</table>\n",
       "<p>484558 rows × 32 columns</p>\n",
       "</div>"
      ],
      "text/plain": [
       "                suburb    rent  num_bedrooms  num_bathrooms  parking  \\\n",
       "0          melton west   449.0           4.0            2.0      2.0   \n",
       "1            southbank   585.0           2.0            2.0      1.0   \n",
       "2             rowville   390.0           3.0            1.0      2.0   \n",
       "3           springvale   400.0           4.0            2.0      1.0   \n",
       "4        ballarat east   290.0           3.0            1.0      1.0   \n",
       "...                ...     ...           ...            ...      ...   \n",
       "484553    burwood east  1050.0           4.0            3.0      2.0   \n",
       "484554  werribee south   560.0           4.0            2.0      2.0   \n",
       "484555  ferntree gully   700.0           3.0            2.0      2.0   \n",
       "484556          coburg   835.0           3.0            3.0      2.0   \n",
       "484557  west footscray   680.0           3.0            2.0      2.0   \n",
       "\n",
       "        distance_to_cbd   latitude   longitude  nearst_train_station_dist  \\\n",
       "0             39.400000 -37.664852  144.556370                  15.035350   \n",
       "1              1.560000 -37.827305  144.959050                   1.219429   \n",
       "2             26.460000 -37.920490  145.232380                   7.008687   \n",
       "3             21.750000 -37.940765  145.151440                   0.985106   \n",
       "4             98.350000 -37.568535  143.889040                  73.684221   \n",
       "...                 ...        ...         ...                        ...   \n",
       "484553        15.825365 -37.856688  145.132631                   2.098144   \n",
       "484554        28.143669 -37.963369  144.707632                   8.197645   \n",
       "484555        28.016795 -37.882581  145.267643                   2.431007   \n",
       "484556         8.289849 -37.737269  144.982527                   1.594189   \n",
       "484557         7.766578 -37.792359  144.877398                   1.197030   \n",
       "\n",
       "        year  ...  property_type_house  property_type_retirement living  \\\n",
       "0       2015  ...                 True                            False   \n",
       "1       2015  ...                False                            False   \n",
       "2       2015  ...                 True                            False   \n",
       "3       2015  ...                 True                            False   \n",
       "4       2015  ...                False                            False   \n",
       "...      ...  ...                  ...                              ...   \n",
       "484553  2023  ...                False                            False   \n",
       "484554  2022  ...                 True                            False   \n",
       "484555  2022  ...                False                            False   \n",
       "484556  2024  ...                False                            False   \n",
       "484557  2024  ...                False                            False   \n",
       "\n",
       "        property_type_serviced apartment  property_type_studio  \\\n",
       "0                                  False                 False   \n",
       "1                                  False                 False   \n",
       "2                                  False                 False   \n",
       "3                                  False                 False   \n",
       "4                                  False                 False   \n",
       "...                                  ...                   ...   \n",
       "484553                             False                 False   \n",
       "484554                             False                 False   \n",
       "484555                             False                 False   \n",
       "484556                             False                 False   \n",
       "484557                             False                 False   \n",
       "\n",
       "        property_type_townhouse  property_type_villa                lga  \\\n",
       "0                         False                False             melton   \n",
       "1                         False                False          melbourne   \n",
       "2                         False                False               knox   \n",
       "3                         False                False  greater dandenong   \n",
       "4                         False                False           ballarat   \n",
       "...                         ...                  ...                ...   \n",
       "484553                     True                False         whitehorse   \n",
       "484554                    False                False            wyndham   \n",
       "484555                    False                False               knox   \n",
       "484556                     True                False            darebin   \n",
       "484557                     True                False        maribyrnong   \n",
       "\n",
       "          Year  Rate per 100,000 population  lga_population  \n",
       "0       2015.0                  7518.066931   134915.000000  \n",
       "1       2015.0                 25240.370565   136872.000000  \n",
       "2       2015.0                  6145.557656   158700.000000  \n",
       "3       2015.0                 11086.049686   156061.000000  \n",
       "4       2015.0                 10860.375053   101479.000000  \n",
       "...        ...                          ...             ...  \n",
       "484553  2023.0                  4950.206842   178639.000000  \n",
       "484554  2022.0                  5270.557664   309398.000000  \n",
       "484555  2022.0                  5691.041624   159549.000000  \n",
       "484556  2024.0                  9172.670623   155788.090972  \n",
       "484557  2024.0                 11323.117749    92051.970181  \n",
       "\n",
       "[484558 rows x 32 columns]"
      ]
     },
     "execution_count": 10,
     "metadata": {},
     "output_type": "execute_result"
    }
   ],
   "source": [
    "import pandas as pd\n",
    "\n",
    "df_final = pd.read_csv('../data/curated/forcast_dataset.csv')\n",
    "df_final\n"
   ]
  },
  {
   "cell_type": "markdown",
   "metadata": {},
   "source": [
    "### Feature engeering for the Forcasting"
   ]
  },
  {
   "cell_type": "markdown",
   "metadata": {},
   "source": [
    "In the modelling part to take the essence of each suburb with without increasing dimensionality in our models:\n",
    "\n",
    "- made a seperate column representing the average distance of a house from a singular suburb to the cbd\n",
    "- made a seperate column representing the average rent of a house from a singular suburb, from 2015 to 2020\n",
    "\n",
    "these steps were taken to ensure we did not have to use one hot key, since we had hundreds of suburbs to consider this would have incurred the curse of dimensionality, in consequence decreasing the quality of the model "
   ]
  },
  {
   "cell_type": "markdown",
   "metadata": {},
   "source": [
    "## `Forecasting`"
   ]
  },
  {
   "cell_type": "markdown",
   "metadata": {},
   "source": [
    "### Our Approach\n",
    "\n",
    "In our overall approach we decided to use the per property dataset which includes the property listed (from 2015 to 2024) after training and testing multiple models on a per property bases and model with the highest accuracy(XGboost in this case) was used to forcast. For the forcasting the chosen model trained on all the training data to then predict over for 2025 - 2027, the prediction in this case was done over all the training data with the changed year,forcasted population density for the year of prediction and forcasted crime density for the year of prediction taken into account, furthermore after getting the prediction, the predictions were aggregated(mean) by suburbs then the growth was calculated for each suburb using the predicted values of 2025 and 2027 for all the valid suburbs.\n",
    "\n",
    "(Problems we faced) Due to the imblance of suburbs listing over time, the aggregation(mean) by suburb before predictions would have lost alot of information related to the property, hence we felt would not have been ideal when forcasting over 2025-2027. hence we chose to to predict on a per property bases before aggregating the prediction per suburb to forcast for 2025-2027.\n",
    "\n",
    "\n",
    "In `Training and testing for all models`, we decided to split our training and testing by time since we wanted to measure the ability of the model to forcast forward based the past historical rent properties, hence before we forcasted the using the models we first used the training(data before 2022) then evaluated it on (the property data after 2022). after that we used metrics such as MSE and R^2 we use the model with the better accuracy to forcast(Asumption: Making the assumption that models that performed better on train and testing data will perform better during forcasting as well...)\n",
    "\n",
    "\n",
    "`Metrics used`\n",
    "\n",
    "- we used `R^2` as metric to check how well the model variable explains the variance of the rent, it is used as a goodness of fit measure\n",
    "- We used `MSE` as metric to check the average error between the predicted and the actual rent values in the testing scenario\n",
    "\n",
    "(Assumption & limitation & Problem we faced) Since the whole property dataset was used to forcast(with change of the year feature,forcasted population density,forcasted Crime density), we made assumptions that the overall propertions of property type, bedroom and bathrooms would stay the same over the years, since randomising this would have resulted in a loss of information. furthermore since some suburbs did not have lisiting over some years, and there was bias of the number of listings from each susburb, hence this is another reason we used the whole modified dataset for prediction, this resulted in the forcast of all the listings in the suburbs, to be more accurate after aggregations(mean) since we used all the listing per suburbs with modified values.\n",
    "\n",
    "\n",
    "(Assumptions) We eliminated all the properties, that were in suburbs with less than 40 listings since we felt that would have increased bias,variance, harming our model and forc asting accuracy overall.\n",
    "\n",
    "\n",
    "all code regarding this is in the `/notebooks/forcastReal.ipynb`"
   ]
  },
  {
   "cell_type": "markdown",
   "metadata": {},
   "source": [
    "### Ridge Regression \n",
    "\n",
    "`Approach and Thinking behind the approach`: We used all the features(categorical and numerical) included in training dataset(2015 - 2022 properties), the use of the penalty term with OLS forces the insignificnant features to have less effect by making their coefficients  go to 0, this decreases overfitting, further more this approach is encouraged where corelation exsists between independent variables(for example the number of bedrooms and the number of bathrooms in property).\n",
    "\n",
    "`Model assumptions` : their is a need of linearity between dependent and independent variables, also the errors are normally distributed and independent.\n",
    "\n",
    "`Result`: \n",
    "\n",
    "\n",
    "`Mean Squared Error: 42157.704876096075`\n",
    "`R2 Score: 0.4112123129159442`\n",
    "\n",
    "this indicates that there is a high error margin, however the R^2 is moderate, there is a lot of room for improvement. this accuracy might be a result of there being high non linearity that \n",
    "is not being captured\n"
   ]
  },
  {
   "cell_type": "markdown",
   "metadata": {},
   "source": [
    "### Random forrest regression\n",
    "\n",
    "`Approach and Thinking behind the approach`: We used all the features(categorical and numerical) included in training dataset(2015 - 2022 properties), To capture the nonlinearity we employed the random forrest implementation, which is known to perform better in these situations, further we tuned the parameters by trial and error to fit better parameters for number of trees, depth ensuring there wasnt high depth, as it causes overfitting. all features were used since, random forrest is able to mitigate the effect of less important features, hence feature selection wasnt done.\n",
    "\n",
    "`Model assumptions` : There are no major model assumptions since random forrest is very flexible\n",
    "\n",
    "`Result`: \n",
    "\n",
    "`Mean Squared Error: 40480.35269041298`\n",
    "`R2 Score: 0.4346387379724399`\n",
    "\n",
    "as it can be seen random forrest performs better than ridge regression  in both margin  of error as well as model fit, this might be due to ensemble model explaining non-linearity better. however it can be seen it has a consant bias for predicting the test listings over the years, as its average predicted value is allways below that of the true values. the model took very long to run ,hence there is more room for improvement.."
   ]
  },
  {
   "cell_type": "markdown",
   "metadata": {},
   "source": [
    "The following visualization helps in understanding that random forrest has clear bias in its predictions\n",
    "\n",
    "\n",
    "![bias random forrest](../plots/bias.png)"
   ]
  },
  {
   "cell_type": "markdown",
   "metadata": {},
   "source": [
    "### XGboost \n",
    "\n",
    "XGboost is an implemenentation of the gradient boosting framework, like random forrest it is ensemble of descision trees, however each tree that is made is made in a sequential way(which is an improvement compared to random forrest), to correct the errors previous trees, hence we hoped that it would be able to work on bias and improve accuracy\n",
    "\n",
    "`Approach and Thinking behind the approach`: We used all the features(categorical and numerical) included in training dataset(2015 - 2022 properties), feature selection was n ot needed since XGboost is more likely to use a more important feature when splitting anyways, we did fine tuning for the features such as the number of trees by trial and error, furthermore by ading the L1 and L2 regularisation which penlaizing the inclusion of weak features, hence is used to comboat overfitting, as well.\n",
    "\n",
    "`Model assumptions` : suffient data, homogeneity variance(not strict), assumption of data points being independent and etc overall XGboost is versitile \n",
    "\n",
    "`Result`: \n",
    "\n",
    "`Mean Squared Error: 28118.35811248478`\n",
    "`R2 Score: 0.6072902192776055`\n",
    "\n",
    "as we can see this model has overall better performance compared to the rest of the models, and the r2 is ~.061 which means it can explain 61% of the variability in rent mening it is an overall good model, we will use this model for forcasting as  it is the best model for prediction of property prices going forward. the bias has also been eliminated as observed below...\n"
   ]
  },
  {
   "cell_type": "markdown",
   "metadata": {},
   "source": [
    "The following visualization helps in understanding that XGboost has removed bias in its predictions\n",
    "\n",
    "\n",
    "![bias random forrest](../plots/biascleared.png)"
   ]
  },
  {
   "cell_type": "markdown",
   "metadata": {},
   "source": [
    "### Forcasting results using XGboost\n",
    "\n",
    "after taking the predictions for 2025 to 2027 per property using XGboost, we aggreagated(mean) over suburbs for each of those years after that we used this approach: \n",
    "`(X_mean_rent_2027 - X_mean_rent_2025)/X_mean_rent_2025` where X is a suburb in this case\n"
   ]
  },
  {
   "cell_type": "markdown",
   "metadata": {},
   "source": [
    "### Key findings in forcasting"
   ]
  },
  {
   "cell_type": "markdown",
   "metadata": {},
   "source": [
    "the graphings related to the forcastings can be found in `/notebooks/growth_ranking_edas.ipynb`(it includes maps related to this as well...)"
   ]
  },
  {
   "cell_type": "markdown",
   "metadata": {},
   "source": [
    "The top ten suburbs with the highest growth rate `fig1`\n",
    "\n",
    "\n",
    "![top ten](../plots/topten.png)"
   ]
  },
  {
   "cell_type": "markdown",
   "metadata": {},
   "source": [
    "The most important features used by XGboost to forcast `fig2`"
   ]
  },
  {
   "cell_type": "code",
   "execution_count": 19,
   "metadata": {},
   "outputs": [
    {
     "data": {
      "image/png": "[encoded data removed]",
      "text/plain": [
       "<PIL.PngImagePlugin.PngImageFile image mode=RGBA size=1000x600>"
      ]
     },
     "metadata": {},
     "output_type": "display_data"
    }
   ],
   "source": [
    "# Load the plot\n",
    "plot_path = '../plots/feature_importance_all.png'\n",
    "plot = Image.open(plot_path)\n",
    "plot.show()"
   ]
  },
  {
   "cell_type": "markdown",
   "metadata": {},
   "source": [
    "The top ten suburbs with highest average rent  `fig3`\n",
    "\n",
    "![rent prices of the top ten most expensive](../plots/highestrent.png)"
   ]
  },
  {
   "cell_type": "markdown",
   "metadata": {},
   "source": [
    "- the `fig1` shows the the suburbs with the highest growth, and a finding is that most of the suburbs with the highest rent tend to be in western victoria and south eastern victoria\n",
    "- the `fig2` portrays how the most important features in a property for price prediction tend to be average price of rent in  that suburb, wheather there is a high achieving suburb in that area and ect\n",
    "- the `fig2` portrays the highest rented suburbs, and there average rent prices, an observation is that they are all part of eastern area of melbourne while being close to the city...\n",
    "\n",
    "further analysis to the forcat is done in `/notebooks/growth_ranking_edas.ipynb`"
   ]
  },
  {
   "cell_type": "markdown",
   "metadata": {},
   "source": [
    "# Livability Scoring\n",
    "### Our livability scoring is comprised of 9 main metrics and scored for each suburb. \n",
    "- Average Rent Price by Number of Bedrooms\n",
    "- Access to Transportation\n",
    "- Access to Groceries\n",
    "- Access to Recreation Facilities\n",
    "- Access to Medical Facilities\n",
    "- Access to Community Centers and Libraries\n",
    "- Access to Education\n",
    "- Access to Childcare\n",
    "- Access to Convenience Stores\n",
    "\n",
    "These amenities were counted per suburb, divided by the population of the suburb, then normalised, with each column representing one of the 9 metrics. With these normalised scores of amenities per population, we came up with weightings for each of the features, and added their scores up to give us and individual score for each suburb as shown below.\n",
    "\n",
    "\n",
    "## Limitations and Assumptions\n",
    "\n",
    "We had a few limitations in regards to our livability scoring functions. The main being the reliability of the data used. We sourced most of the data in the amenities from Open Street Map (OSM) and was supplemented with data from external sources, such as Schools ABS data. Additionally, we made assumptions on the importance ratings for each of the features, which both works for and against us. This allows for use to fine tune to each prospector, on which amenities they value more through the adjustment of these weights, which allows for more personalised approach for each client. In the livability_scoring.ipynb notebook, we provide some sample weightings for 3 different demographic groups, such as \"Families with Children\", \"Young working Adults\" and \"Elderly\" populations.\n",
    "\n",
    "We can solve these issues by delving deeper into current research on urban liveability and potentially, train a model to fine tune parameters based on historical livability rankings for each suburb. Additionally, we can add a few more metrics, regarding employment opportunity, street connectivity and dwelling density, which are other factors that are researched to be integral in scoring liveability. With the help of liveability researchers, we can also create our own metrics such as consideration of Air Quality, Crime Rate, and Traffic Congestion. "
   ]
  },
  {
   "cell_type": "code",
   "execution_count": 5,
   "metadata": {},
   "outputs": [
    {
     "data": {
      "text/html": [
       "<div>\n",
       "<style scoped>\n",
       "    .dataframe tbody tr th:only-of-type {\n",
       "        vertical-align: middle;\n",
       "    }\n",
       "\n",
       "    .dataframe tbody tr th {\n",
       "        vertical-align: top;\n",
       "    }\n",
       "\n",
       "    .dataframe thead th {\n",
       "        text-align: right;\n",
       "    }\n",
       "</style>\n",
       "<table border=\"1\" class=\"dataframe\">\n",
       "  <thead>\n",
       "    <tr style=\"text-align: right;\">\n",
       "      <th></th>\n",
       "      <th>Suburb</th>\n",
       "      <th>livability_score</th>\n",
       "      <th>Rank</th>\n",
       "    </tr>\n",
       "  </thead>\n",
       "  <tbody>\n",
       "    <tr>\n",
       "      <th>0</th>\n",
       "      <td>Fitzroy</td>\n",
       "      <td>1.019100</td>\n",
       "      <td>1</td>\n",
       "    </tr>\n",
       "    <tr>\n",
       "      <th>1</th>\n",
       "      <td>Brunswick</td>\n",
       "      <td>0.995007</td>\n",
       "      <td>2</td>\n",
       "    </tr>\n",
       "    <tr>\n",
       "      <th>2</th>\n",
       "      <td>South Yarra</td>\n",
       "      <td>0.992986</td>\n",
       "      <td>3</td>\n",
       "    </tr>\n",
       "    <tr>\n",
       "      <th>3</th>\n",
       "      <td>Brighton</td>\n",
       "      <td>0.951841</td>\n",
       "      <td>4</td>\n",
       "    </tr>\n",
       "    <tr>\n",
       "      <th>4</th>\n",
       "      <td>Port Melbourne</td>\n",
       "      <td>0.914285</td>\n",
       "      <td>5</td>\n",
       "    </tr>\n",
       "    <tr>\n",
       "      <th>5</th>\n",
       "      <td>Glen Waverley</td>\n",
       "      <td>0.888995</td>\n",
       "      <td>6</td>\n",
       "    </tr>\n",
       "    <tr>\n",
       "      <th>6</th>\n",
       "      <td>Toorak</td>\n",
       "      <td>0.886675</td>\n",
       "      <td>7</td>\n",
       "    </tr>\n",
       "    <tr>\n",
       "      <th>7</th>\n",
       "      <td>Carlton</td>\n",
       "      <td>0.881260</td>\n",
       "      <td>8</td>\n",
       "    </tr>\n",
       "    <tr>\n",
       "      <th>8</th>\n",
       "      <td>Northcote</td>\n",
       "      <td>0.874163</td>\n",
       "      <td>9</td>\n",
       "    </tr>\n",
       "    <tr>\n",
       "      <th>9</th>\n",
       "      <td>Elwood</td>\n",
       "      <td>0.861627</td>\n",
       "      <td>10</td>\n",
       "    </tr>\n",
       "  </tbody>\n",
       "</table>\n",
       "</div>"
      ],
      "text/plain": [
       "           Suburb  livability_score  Rank\n",
       "0         Fitzroy          1.019100     1\n",
       "1       Brunswick          0.995007     2\n",
       "2     South Yarra          0.992986     3\n",
       "3        Brighton          0.951841     4\n",
       "4  Port Melbourne          0.914285     5\n",
       "5   Glen Waverley          0.888995     6\n",
       "6          Toorak          0.886675     7\n",
       "7         Carlton          0.881260     8\n",
       "8       Northcote          0.874163     9\n",
       "9          Elwood          0.861627    10"
      ]
     },
     "execution_count": 5,
     "metadata": {},
     "output_type": "execute_result"
    }
   ],
   "source": [
    "livability_df = pd.read_csv(\"../data/curated/liveability/output_suburbs_livability_ranked.csv\")\n",
    "livability_df.head(10)"
   ]
  },
  {
   "cell_type": "code",
   "execution_count": 6,
   "metadata": {},
   "outputs": [
    {
     "data": {
      "text/plain": [
       "\"figure = Figure()\\nfigure.html.add_child(folium.Html(\\n    open('../data/curated/liveability/top10_livemap.html').read(),\\n    script=True\\n))\\ndisplay(figure)\""
      ]
     },
     "execution_count": 6,
     "metadata": {},
     "output_type": "execute_result"
    }
   ],
   "source": [
    "'''figure = Figure()\n",
    "figure.html.add_child(folium.Html(\n",
    "    open('../data/curated/liveability/top10_livemap.html').read(),\n",
    "    script=True\n",
    "))\n",
    "display(figure)'''"
   ]
  }
 ],
 "metadata": {
  "kernelspec": {
   "display_name": "ads_env_3",
   "language": "python",
   "name": "python3"
  },
  "language_info": {
   "codemirror_mode": {
    "name": "ipython",
    "version": 3
   },
   "file_extension": ".py",
   "mimetype": "text/x-python",
   "name": "python",
   "nbconvert_exporter": "python",
   "pygments_lexer": "ipython3",
   "version": "3.11.7"
  }
 },
 "nbformat": 4,
 "nbformat_minor": 2
}
